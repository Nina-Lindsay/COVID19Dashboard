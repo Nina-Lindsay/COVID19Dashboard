{
 "cells": [
  {
   "cell_type": "markdown",
   "metadata": {},
   "source": [
    "# COVID-19 Dashboard\n",
    "#### Nina Lindsay-     Student Number: 200752370\n",
    "<hr>"
   ]
  },
  {
   "cell_type": "code",
   "execution_count": 1,
   "metadata": {},
   "outputs": [],
   "source": [
    "#Importing required libraries and functions, configuring matplotlib styles and to show inline:\n",
    "\n",
    "import ipywidgets as wdg\n",
    "import pandas as pd\n",
    "import numpy as np\n",
    "import matplotlib.pyplot as plt\n",
    "import json\n",
    "from uk_covid19 import Cov19API\n",
    "from time import sleep\n",
    "from datetime import datetime\n",
    "\n",
    "%matplotlib inline\n",
    "plt.style.use('seaborn-bright')\n",
    "plt.rcParams['figure.dpi'] = 100"
   ]
  },
  {
   "cell_type": "markdown",
   "metadata": {},
   "source": [
    "This notebook shows cumulative cases and deaths by specimen date expressed as a rate per 100 000 people for each of the four UK regions: England, Scotland, Wales and Northern Ireland.\n",
    "\n",
    "#### Key metrics used:\n",
    "<ul>\n",
    "<li>Cases and Deaths by Specimen Date: This records the date on which the test was taken or on which the death occured, irrespective of reporting date. Previously reported data is therefore continually updated as new reports of cases and deaths on previous specimen dates emerge.</li>\n",
    "<li>Population Sizes used are Office for National Statistics 2019 mid-year estimates.</li>\n",
    "</ul>\n",
    "\n",
    "Full details on reporting sources and COVID death count methodologies for the four regions can be found on the [gov.uk website](https://coronavirus.data.gov.uk/details/about-data#daily-and-cumulative-numbers-of-cases).\n",
    "<hr>"
   ]
  },
  {
   "cell_type": "code",
   "execution_count": 2,
   "metadata": {},
   "outputs": [],
   "source": [
    "#function to convert imported dates data into datetime pandas object:\n",
    "def parse_date(datestring):\n",
    "    \"\"\" Convert a date string into a pandas datetime object \"\"\"\n",
    "    return pd.to_datetime(datestring, format=\"%Y-%m-%d\")\n",
    "\n",
    "#function to wrangle data/convert from JSON files to dfs:            \n",
    "def wrangle_data():\n",
    "    \"\"\"Uses the UK region cases and deaths JSON files in the local directory and returns collated\n",
    "    data frames for cumulative cases and cumulative deaths with regions as seperate columns in each df.\"\"\"\n",
    "    \n",
    "    #opening and reading JSON files, saving as new variables for each nation\n",
    "\n",
    "    data = []\n",
    "\n",
    "    for name in ['england', 'scotland', 'wales', 'northernireland']:\n",
    "        with open(\"timeseries{}.json\".format(name), \"rt\") as INFILE:\n",
    "            data.append(json.load(INFILE))\n",
    "\n",
    "    englanddata = data[0]['data']\n",
    "    scotlanddata = data[1]['data']\n",
    "    walesdata = data[2]['data']\n",
    "    nidata = data[3]['data']\n",
    "    \n",
    "    #Converting JSON to lists, extracting min and max dates from date column for each dataset \n",
    "\n",
    "    englanddates = [dictionary['date'] for dictionary in englanddata]\n",
    "    englanddates.sort()\n",
    "\n",
    "    scotlanddates = [dictionary['date'] for dictionary in scotlanddata]\n",
    "    scotlanddates.sort()\n",
    "\n",
    "    walesdates = [dictionary['date'] for dictionary in walesdata]\n",
    "    walesdates.sort()\n",
    "\n",
    "    nidates = [dictionary['date'] for dictionary in nidata]\n",
    "    nidates.sort()\n",
    "    \n",
    "    #Creation of cumcases and cumdeaths data frames using min and max dates:\n",
    "    global dataindex\n",
    "    dataindex=pd.date_range(parse_date(min(englanddates[0],scotlanddates[0], walesdates[0], nidates[0])), \\\n",
    "                        parse_date(max(englanddates[-1],scotlanddates[-1], walesdates[-1], nidates[-1])), freq='D')\n",
    "    global cumcasesdf\n",
    "    global cumdeathsdf\n",
    "    cumcasesdf = pd.DataFrame(index=dataindex, columns=['England', 'Scotland', 'Wales', 'Northern Ireland'])\n",
    "    cumdeathsdf = pd.DataFrame(index=dataindex, columns=['England', 'Scotland', 'Wales', 'Northern Ireland'])\n",
    "\n",
    "    #Populating data into cumcases and cumdeaths dataframes from the four regions:\n",
    "\n",
    "    for x, y in zip([englanddata, scotlanddata, walesdata, nidata], ['England', 'Scotland', 'Wales', 'Northern Ireland']):\n",
    "        for entry in x:\n",
    "            date = parse_date(entry['date'])\n",
    "            for column in ['cumCasesBySpecimenDateRate', 'cumDeaths28DaysByDeathDateRate']:\n",
    "                if column == 'cumCasesBySpecimenDateRate' and pd.isna(cumcasesdf.loc[date, y]):\n",
    "                    value= float(entry[column]) if entry[column]!=None else 0.0\n",
    "                    cumcasesdf.loc[date, y] = value\n",
    "                elif column == 'cumDeaths28DaysByDeathDateRate' and pd.isna(cumdeathsdf.loc[date, y]):\n",
    "                    value= float(entry[column]) if entry[column]!=None else 0.0\n",
    "                    cumdeathsdf.loc[date, y] = value\n",
    "\n",
    "    #Fill any unpopulated values with 0.0:\n",
    "\n",
    "    cumdeathsdf.fillna(0.0, inplace = True)\n",
    "    cumcasesdf.fillna(0.0, inplace = True)\n"
   ]
  },
  {
   "cell_type": "code",
   "execution_count": 3,
   "metadata": {},
   "outputs": [],
   "source": [
    "#function to call API data and save output as updated JSONs\n",
    "    #(It is noted that these updated JSON files will not cause the deployed canned data to update when run on a binder, \n",
    "    #but the functionality is preserved should the user wish to download the code locally.)\n",
    "    \n",
    "def access_api(button):\n",
    "    \"\"\"Accesses the UK COVID19 API and returns the cumulative case and death rate data \n",
    "    for UK regions as JSON files in the local directory.\"\"\"\n",
    "    \n",
    "    #selecting desired data through filters and structures parameters of api:\n",
    "    timeserieslist = []\n",
    "    structure = {\n",
    "        \"date\": \"date\",\n",
    "        \"cumCasesBySpecimenDateRate\": \"cumCasesBySpecimenDateRate\",\n",
    "        \"cumDeaths28DaysByDeathDateRate\": \"cumDeaths28DaysByDeathDateRate\"\n",
    "    }\n",
    "    \n",
    "    #exception handling for failed API call\n",
    "    try:\n",
    "        for name in ('england', 'scotland', 'wales', 'northern ireland'):\n",
    "            filters = [\n",
    "                'areaType=nation',\n",
    "                'areaName={}'.format(name)\n",
    "            ]\n",
    "            api = Cov19API(filters=filters, structure=structure)\n",
    "            timeserieslist.append(api.get_json())\n",
    "            sleep(0.5)\n",
    "\n",
    "        #saving data outputs as JSON files for future use\n",
    "        for i, name in enumerate(['england', 'scotland', 'wales', 'northernireland']):\n",
    "            with open(\"timeseries{}.json\".format(name), \"wt\") as OUTF:\n",
    "                json.dump(timeserieslist[i], OUTF)\n",
    "    \n",
    "    except: \n",
    "        print('There was an error accessing the API. Data has not been updated.')\n",
    "        \n",
    "    #call wrangle_data() function to update data frames used within the graphs, \n",
    "    #call refresh_graph() to simulate user widget interaction and force plot redraw\n",
    "    global cumdeathsdf\n",
    "    global cumcasesdf\n",
    "    wrangle_data()\n",
    "    refresh_casesgraph()\n",
    "    refresh_deathsgraph()\n",
    "    \n",
    "    #following API call attempt; update button display to be disabled with 'Unavailable' text\n",
    "    global apibutton\n",
    "    apibutton.icon=\"check\"\n",
    "    apibutton.description='Unavailable'\n",
    "    apibutton.disabled = True\n",
    "    apibutton.tooltip='Data has already been refreshed or is unavailable'"
   ]
  },
  {
   "cell_type": "markdown",
   "metadata": {},
   "source": [
    "#### Use the refresh button below to call the UK COVID19 API and refresh the data shown in the graphs:"
   ]
  },
  {
   "cell_type": "code",
   "execution_count": 4,
   "metadata": {},
   "outputs": [
    {
     "data": {
      "application/vnd.jupyter.widget-view+json": {
       "model_id": "c9ad515e83c14cb7b4f927b54f9024f6",
       "version_major": 2,
       "version_minor": 0
      },
      "text/plain": [
       "Button(description='Refresh data', icon='download', style=ButtonStyle(), tooltip='Click to download current .g…"
      ]
     },
     "metadata": {},
     "output_type": "display_data"
    }
   ],
   "source": [
    "#On initial loading:\n",
    "\n",
    "#Call wrangle data to convert initial 'canned' JSON to dataframes for plotting:\n",
    "wrangle_data()\n",
    "\n",
    "#Create refresh data button for re-loading of data and updating of graphs with access_api() function:\n",
    "apibutton=wdg.Button(\n",
    "    description='Refresh data',\n",
    "    disabled=False,\n",
    "    button_style='',\n",
    "    tooltip='Click to download current .gov.uk data',\n",
    "    icon='download' \n",
    ")\n",
    "\n",
    "apibutton.on_click(access_api)\n",
    "display(apibutton)\n"
   ]
  },
  {
   "cell_type": "markdown",
   "metadata": {},
   "source": [
    "<br>The two graphs below show the cumulative deaths and cumulative cases per 100 000 people for each of the four regions (England, Scotland, Wales and Northern Ireland). <br>\n",
    "Individual region plotlines can be isolated by clicking the multi-select widget above each dashboard. Multiple regions can be selected by holding 'CTRL' whilst clicking the desired regions. <br>\n",
    "You are also able to narrow the date range shown within each graph using the slider above each plot. Click and drag the slider to select the start date from which the data will be shown."
   ]
  },
  {
   "cell_type": "markdown",
   "metadata": {},
   "source": [
    "<hr>"
   ]
  },
  {
   "cell_type": "markdown",
   "metadata": {},
   "source": [
    "## Graph 1: Cumulative Deaths per 100 000 People"
   ]
  },
  {
   "cell_type": "code",
   "execution_count": 10,
   "metadata": {},
   "outputs": [
    {
     "data": {
      "application/vnd.jupyter.widget-view+json": {
       "model_id": "6187cead610e40eba1a0d503878b2a43",
       "version_major": 2,
       "version_minor": 0
      },
      "text/plain": [
       "HBox(children=(SelectMultiple(description='Regions:', index=(0, 1, 2, 3), options=('England', 'Scotland', 'Wal…"
      ]
     },
     "metadata": {},
     "output_type": "display_data"
    },
    {
     "data": {
      "application/vnd.jupyter.widget-view+json": {
       "model_id": "260ae0aa7c454769b72d5ed8af00977e",
       "version_major": 2,
       "version_minor": 0
      },
      "text/plain": [
       "Output()"
      ]
     },
     "metadata": {},
     "output_type": "display_data"
    }
   ],
   "source": [
    "#create Region selection widget for cumdeaths dataframe\n",
    "deathslines=wdg.SelectMultiple(\n",
    "    options=['England', 'Scotland', 'Wales', 'Northern Ireland'], # options available\n",
    "    value=['England', 'Scotland', 'Wales', 'Northern Ireland'], # initial value\n",
    "    rows=4, # rows of the selection box\n",
    "    description='Regions:',\n",
    "    disabled=False\n",
    ")\n",
    "\n",
    "#create date selection widget for cumdeaths dataframe\n",
    "\n",
    "sliderdataindex=pd.date_range(dataindex[0], parse_date(datetime.now()), freq='D')\n",
    "\n",
    "deathsdate = wdg.SelectionSlider(\n",
    "    options= [(date.strftime(' %d %b %Y '), date) for date in sliderdataindex],\n",
    "    index=len(sliderdataindex)-1,\n",
    "    description='Start Date:',\n",
    "    style = {'description_width': 'initial'},\n",
    "    orientation='horizontal',\n",
    "    layout={'width': '500px'}\n",
    ")\n",
    "\n",
    "deathscontrols = wdg.HBox([deathslines, deathsdate])\n",
    "\n",
    "\n",
    "def cumdeaths_graph(graphlines, daterange):\n",
    "    \"\"\"Creates plot based on region and date widget inputs and current version of cumdeathsdf.\n",
    "    Prints error message if no regions are selected or if date selection is out of range of data frame.\"\"\"\n",
    "    start_date = daterange\n",
    "    nlines=len(graphlines)\n",
    "    if nlines>0 and (deathsdate.value + pd.Timedelta(1, unit='D')) in cumdeathsdf.index:\n",
    "        cumdeathsdf.loc[start_date:].plot(figsize = (9,5), \n",
    "                                                  title = 'Cumulative Deaths per 100 000 People', y=list(graphlines))\n",
    "    else:\n",
    "        # if the user has not selected any column, print a message instead\n",
    "        print(\"The graph could not be generated.\")\n",
    "        print(\"(Ensure you have selected at least one region and that your date selection includes more than one day of available data.)\")\n",
    "\n",
    "        \n",
    "        \n",
    "def refresh_deathsgraph():\n",
    "    \"\"\"Temporarily changes the value of the deathlines widget in order to simulate user interaction and \n",
    "    force a redraw of the cumulative deaths graph.\"\"\"\n",
    "    current=deathslines.value\n",
    "    if current==(deathslines.options[0],):\n",
    "        other=(deathslines.options[1],)\n",
    "    else:\n",
    "        other=(deathslines.options[0],)\n",
    "    deathslines.value=other # forces the redraw\n",
    "    deathslines.value=current \n",
    "        \n",
    "#display widgets and plot, set initial value of date widget to minimum value of slider index, set plot layout height\n",
    "\n",
    "output=wdg.interactive_output(cumdeaths_graph, {'graphlines': deathslines, 'daterange': deathsdate})\n",
    "display(deathscontrols, output)\n",
    "deathsdate.value = dataindex[0]\n",
    "output.layout.height = '500px'"
   ]
  },
  {
   "cell_type": "markdown",
   "metadata": {},
   "source": [
    "<hr>"
   ]
  },
  {
   "cell_type": "markdown",
   "metadata": {},
   "source": [
    "## Graph 2: Cumulative Cases per 100 000 People"
   ]
  },
  {
   "cell_type": "code",
   "execution_count": 11,
   "metadata": {},
   "outputs": [
    {
     "data": {
      "application/vnd.jupyter.widget-view+json": {
       "model_id": "a05f1ad0f3004131842f96017819f231",
       "version_major": 2,
       "version_minor": 0
      },
      "text/plain": [
       "HBox(children=(SelectMultiple(description='Regions:', index=(0, 1, 2, 3), options=('England', 'Scotland', 'Wal…"
      ]
     },
     "metadata": {},
     "output_type": "display_data"
    },
    {
     "data": {
      "application/vnd.jupyter.widget-view+json": {
       "model_id": "813907227356490da5de9b5f50b05e5e",
       "version_major": 2,
       "version_minor": 0
      },
      "text/plain": [
       "Output()"
      ]
     },
     "metadata": {},
     "output_type": "display_data"
    }
   ],
   "source": [
    "#create region select widget for cases df\n",
    "caseslines=wdg.SelectMultiple(\n",
    "    options=['England', 'Scotland', 'Wales', 'Northern Ireland'], # options available\n",
    "    value=['England', 'Scotland', 'Wales', 'Northern Ireland'], # initial value\n",
    "    rows=4, \n",
    "    description='Regions:',\n",
    "    disabled=False\n",
    ")\n",
    "\n",
    "#create date slider widget for cases df\n",
    "sliderdataindex=pd.date_range(dataindex[0], parse_date(datetime.now()), freq='D')\n",
    "\n",
    "casesdate = wdg.SelectionSlider(\n",
    "    options= [(date.strftime(' %d %b %Y '), date) for date in sliderdataindex],\n",
    "    index=len(sliderdataindex)-1,\n",
    "    description='Start Date:',\n",
    "    style = {'description_width': 'initial'},\n",
    "    orientation='horizontal',\n",
    "    layout={'width': '500px'}\n",
    ")\n",
    "\n",
    "casescontrols = wdg.HBox([caseslines, casesdate])\n",
    "\n",
    "\n",
    "def cumcases_graph(graphlines, daterange):\n",
    "    \"\"\"Creates plot based on region and date widget inputs and current version of cumcasesdf.\n",
    "    Prints error message if no regions are selected or if date selection is out of range of data frame.\"\"\"\n",
    "    start_date = daterange\n",
    "    nlines=len(graphlines)\n",
    "    if nlines>0 and (casesdate.value + pd.Timedelta(1, unit='D')) in cumcasesdf.index:\n",
    "        cumcasesdf.loc[start_date:].plot(figsize = (9,5), \n",
    "                                                 title = 'Cumulative Cases per 100 000 People', y=list(graphlines))\n",
    "    else:\n",
    "        # if the user has not selected any column, print a message instead\n",
    "        print(\"The graph could not be generated.\")\n",
    "        print(\"(Ensure you have selected at least one region and that your date selection includes more than one day of available data.)\")\n",
    "\n",
    "        \n",
    "def refresh_casesgraph():\n",
    "    \"\"\"Temporarily changes the value of the caseslines widget in order to simulate user interaction and \n",
    "    force a redraw of the cumulative cases graph.\"\"\"\n",
    "    current=caseslines.value\n",
    "    if current==(caseslines.options[0],):\n",
    "        other=(caseslines.options[1],)\n",
    "    else:\n",
    "        other=(caseslines.options[0],)\n",
    "    caseslines.value=other # forces the redraw\n",
    "    caseslines.value=current \n",
    "\n",
    "#display widgets and plot, set initial value of date widget to minimum value of slider index, set plot layout height    \n",
    "output=wdg.interactive_output(cumcases_graph, {'graphlines': caseslines, 'daterange': casesdate})\n",
    "display(casescontrols, output)\n",
    "casesdate.value = dataindex[0]\n",
    "output.layout.height = '500px'"
   ]
  },
  {
   "cell_type": "markdown",
   "metadata": {},
   "source": [
    "(C) **Nina Lindsay**, data from [Public Health England](https://www.gov.uk/government/organisations/public-health-england), content available under the [Open Government License v3.0](https://www.nationalarchives.gov.uk/doc/open-government-licence/version/3/)"
   ]
  }
 ],
 "metadata": {
  "kernelspec": {
   "display_name": "Python 3",
   "language": "python",
   "name": "python3"
  },
  "language_info": {
   "codemirror_mode": {
    "name": "ipython",
    "version": 3
   },
   "file_extension": ".py",
   "mimetype": "text/x-python",
   "name": "python",
   "nbconvert_exporter": "python",
   "pygments_lexer": "ipython3",
   "version": "3.7.4"
  }
 },
 "nbformat": 4,
 "nbformat_minor": 2
}
